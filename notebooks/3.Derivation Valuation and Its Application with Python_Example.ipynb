{
 "cells": [
  {
   "cell_type": "markdown",
   "metadata": {},
   "source": [
    "    !pip install option-price"
   ]
  },
  {
   "cell_type": "code",
   "execution_count": 1,
   "metadata": {},
   "outputs": [],
   "source": [
    "from optionprice import Option\n",
    "import numpy as np\n",
    "from scipy.stats import norm\n",
    "import datetime"
   ]
  },
  {
   "cell_type": "code",
   "execution_count": 2,
   "metadata": {},
   "outputs": [],
   "source": [
    "call_option_pricing = Option(european=True,\n",
    "                    kind='call',\n",
    "                    s0=100,\n",
    "                    k=120,\n",
    "                    t=45,\n",
    "                    sigma=0.01,\n",
    "                    r=0.05,\n",
    "                    dv=0)"
   ]
  },
  {
   "cell_type": "code",
   "execution_count": 3,
   "metadata": {},
   "outputs": [
    {
     "data": {
      "text/plain": [
       "0.0"
      ]
     },
     "execution_count": 3,
     "metadata": {},
     "output_type": "execute_result"
    }
   ],
   "source": [
    "call_price = call_option_pricing.getPrice()\n",
    "call_price"
   ]
  },
  {
   "cell_type": "code",
   "execution_count": 4,
   "metadata": {},
   "outputs": [],
   "source": [
    "put_option_pricing = Option(european=True,\n",
    "                    kind='put',\n",
    "                    s0=100,\n",
    "                    k=120,\n",
    "                    t=45,\n",
    "                    sigma=0.01,\n",
    "                    r=0.05,\n",
    "                    dv=0)"
   ]
  },
  {
   "cell_type": "code",
   "execution_count": 5,
   "metadata": {},
   "outputs": [
    {
     "name": "stdout",
     "output_type": "stream",
     "text": [
      "Type:           European\n",
      "Kind:           put\n",
      "Price initial:  100\n",
      "Price strike:   120\n",
      "Volatility:     1.0%\n",
      "Risk free rate: 5.0%\n",
      "Start Date:     2020-08-26\n",
      "Expire Date:    2020-10-10\n",
      "Time span:      45.0 days\n"
     ]
    }
   ],
   "source": [
    "print(put_option_pricing)"
   ]
  },
  {
   "cell_type": "code",
   "execution_count": 6,
   "metadata": {},
   "outputs": [
    {
     "data": {
      "text/plain": [
       "19.26254927241017"
      ]
     },
     "execution_count": 6,
     "metadata": {},
     "output_type": "execute_result"
    }
   ],
   "source": [
    "put_price = put_option_pricing.getPrice()\n",
    "put_price"
   ]
  },
  {
   "cell_type": "code",
   "execution_count": 7,
   "metadata": {},
   "outputs": [],
   "source": [
    "s0,k,t,sigma,r=100,120,45/365,0.01,0.05"
   ]
  },
  {
   "cell_type": "code",
   "execution_count": 8,
   "metadata": {},
   "outputs": [],
   "source": [
    "def pricing_EU_call(s0, k, t,r, sigma):\n",
    "    sqrtT = np.sqrt(t)\n",
    "    d1 = (np.log(s0 / k) + (r + 0.5 * sigma **2) * t) / (sigma * sqrtT)\n",
    "    d2 = d1 - sigma * sqrtT\n",
    "\n",
    "    expRT = np.exp(- r * t)\n",
    "\n",
    "    callResult =(s0 * norm.cdf(d1) - k *expRT * norm.cdf(d2))\n",
    "    return callResult"
   ]
  },
  {
   "cell_type": "code",
   "execution_count": 9,
   "metadata": {},
   "outputs": [
    {
     "data": {
      "text/plain": [
       "0.0"
      ]
     },
     "execution_count": 9,
     "metadata": {},
     "output_type": "execute_result"
    }
   ],
   "source": [
    "pricing_EU_call(s0, k, t,r, sigma)"
   ]
  },
  {
   "cell_type": "code",
   "execution_count": 10,
   "metadata": {},
   "outputs": [],
   "source": [
    "def pricing_EU_put(s0, k, t,r, sigma):\n",
    "\n",
    "    sqrtT = np.sqrt(t)\n",
    "    d1 = (np.log(s0 / k) + (r + 0.5 * sigma **2) * t) / (sigma * sqrtT)\n",
    "    d2 = d1 - sigma * sqrtT\n",
    "\n",
    "    expRT = np.exp(- r * t)\n",
    "    \n",
    "    putResult = (k * expRT * norm.cdf(-d2, 0.0, 1.0) - s0 * norm.cdf(-d1, 0.0, 1.0))\n",
    "    return putResult"
   ]
  },
  {
   "cell_type": "code",
   "execution_count": 11,
   "metadata": {},
   "outputs": [
    {
     "data": {
      "text/plain": [
       "19.26254927241017"
      ]
     },
     "execution_count": 11,
     "metadata": {},
     "output_type": "execute_result"
    }
   ],
   "source": [
    "pricing_EU_put(s0, k, t,r, sigma)"
   ]
  },
  {
   "cell_type": "markdown",
   "metadata": {},
   "source": [
    "## Option Pricing with Monte Carlo"
   ]
  },
  {
   "cell_type": "code",
   "execution_count": 12,
   "metadata": {},
   "outputs": [],
   "source": [
    "T = (datetime.date(2013,9,21) - datetime.date(2013,9,3)).days / 365.0"
   ]
  },
  {
   "cell_type": "code",
   "execution_count": 13,
   "metadata": {},
   "outputs": [],
   "source": [
    "discount_factor = np.exp(-r * T)"
   ]
  },
  {
   "cell_type": "code",
   "execution_count": 14,
   "metadata": {},
   "outputs": [],
   "source": [
    "def sim_asset_price(S,v,r,T):\n",
    "    return S * np.exp((r - 0.5 * v**2) * T + v * np.sqrt(T) * np.random.normal(0,1.0))"
   ]
  },
  {
   "cell_type": "code",
   "execution_count": 15,
   "metadata": {},
   "outputs": [],
   "source": [
    "def call_payoff(S_T, K):\n",
    "    return max(S_T - K, 0.0)"
   ]
  },
  {
   "cell_type": "code",
   "execution_count": 16,
   "metadata": {},
   "outputs": [],
   "source": [
    "S = 100\n",
    "v = 0.2\n",
    "r = 0.003 \n",
    "K= 110"
   ]
  },
  {
   "cell_type": "code",
   "execution_count": 17,
   "metadata": {},
   "outputs": [],
   "source": [
    "simulations = 90000\n",
    "payoffs = []\n",
    "for i in range(simulations):\n",
    "    S_T = sim_asset_price(S,v,r,T)\n",
    "    payoffs.append(call_payoff(S_T, K))"
   ]
  },
  {
   "cell_type": "code",
   "execution_count": 18,
   "metadata": {},
   "outputs": [
    {
     "name": "stdout",
     "output_type": "stream",
     "text": [
      "Call Price: 0.027695167572156624\n"
     ]
    }
   ],
   "source": [
    "call_price = discount_factor * (sum(payoffs) / float(simulations))\n",
    "print('Call Price: {}'.format(call_price))"
   ]
  },
  {
   "cell_type": "code",
   "execution_count": 19,
   "metadata": {},
   "outputs": [],
   "source": [
    "call_option = Option(european=True,\n",
    "                    kind='call',\n",
    "                    s0=100,\n",
    "                    k=110,\n",
    "                    t=18,\n",
    "                    sigma=0.2,\n",
    "                    r=0.003,\n",
    "                    dv=0)"
   ]
  },
  {
   "cell_type": "code",
   "execution_count": 20,
   "metadata": {},
   "outputs": [
    {
     "name": "stdout",
     "output_type": "stream",
     "text": [
      "Call price is 0.026409308624665388\n"
     ]
    }
   ],
   "source": [
    "call_price = call_option.getPrice(method='MC',iteration = 90000)\n",
    "print('Call price is {}'.format(call_price))"
   ]
  },
  {
   "cell_type": "code",
   "execution_count": 21,
   "metadata": {},
   "outputs": [],
   "source": [
    "def put_payoff(S_T, K):\n",
    "    return max(K-S_T, 0.0)"
   ]
  },
  {
   "cell_type": "code",
   "execution_count": 22,
   "metadata": {},
   "outputs": [],
   "source": [
    "simulations = 90000\n",
    "payoffs = []\n",
    "for i in range(simulations):\n",
    "    S_T = sim_asset_price(S,v,r,T)\n",
    "    payoffs.append(put_payoff(S_T, K))"
   ]
  },
  {
   "cell_type": "code",
   "execution_count": 23,
   "metadata": {},
   "outputs": [
    {
     "name": "stdout",
     "output_type": "stream",
     "text": [
      "Put Price is 10.008049557622066\n"
     ]
    }
   ],
   "source": [
    "put_price = discount_factor * (sum(payoffs) / float(simulations))\n",
    "print('Put Price is {}'.format(put_price))"
   ]
  },
  {
   "cell_type": "code",
   "execution_count": 24,
   "metadata": {},
   "outputs": [],
   "source": [
    "put_price = Option(european=True,\n",
    "                    kind='put',\n",
    "                    s0=100,\n",
    "                    k=110,\n",
    "                    t=18,\n",
    "                    sigma=0.2,\n",
    "                    r=0.003,\n",
    "                    dv=0)"
   ]
  },
  {
   "cell_type": "code",
   "execution_count": 25,
   "metadata": {},
   "outputs": [
    {
     "name": "stdout",
     "output_type": "stream",
     "text": [
      "Put price is 10.002323029653812\n"
     ]
    }
   ],
   "source": [
    "put_price = put_price.getPrice(method='MC',iteration = 90000)\n",
    "print('Put price is {}'.format(put_price))"
   ]
  }
 ],
 "metadata": {
  "kernelspec": {
   "display_name": "Python 3",
   "language": "python",
   "name": "python3"
  },
  "language_info": {
   "codemirror_mode": {
    "name": "ipython",
    "version": 3
   },
   "file_extension": ".py",
   "mimetype": "text/x-python",
   "name": "python",
   "nbconvert_exporter": "python",
   "pygments_lexer": "ipython3",
   "version": "3.7.3"
  }
 },
 "nbformat": 4,
 "nbformat_minor": 4
}
