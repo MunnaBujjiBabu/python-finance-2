{
 "cells": [
  {
   "cell_type": "markdown",
   "metadata": {},
   "source": [
    "# Example-Portfolio Theory and Its Application in Python"
   ]
  },
  {
   "cell_type": "code",
   "execution_count": 1,
   "metadata": {},
   "outputs": [
    {
     "name": "stdout",
     "output_type": "stream",
     "text": [
      "Requirement already satisfied: pyportfolioopt in /Users/abdullah/anaconda3/lib/python3.7/site-packages (1.2.4)\n",
      "Requirement already satisfied: cvxpy<1.1,>=1.0 in /Users/abdullah/anaconda3/lib/python3.7/site-packages (from pyportfolioopt) (1.0.31)\n",
      "Requirement already satisfied: pandas>=0.19 in /Users/abdullah/anaconda3/lib/python3.7/site-packages (from pyportfolioopt) (1.0.4)\n",
      "Requirement already satisfied: scipy<2.0,>=1.3 in /Users/abdullah/anaconda3/lib/python3.7/site-packages (from pyportfolioopt) (1.4.1)\n",
      "Requirement already satisfied: numpy<2.0,>=1.12 in /Users/abdullah/anaconda3/lib/python3.7/site-packages (from pyportfolioopt) (1.18.1)\n",
      "Requirement already satisfied: scs>=1.1.3 in /Users/abdullah/anaconda3/lib/python3.7/site-packages (from cvxpy<1.1,>=1.0->pyportfolioopt) (2.1.2)\n",
      "Requirement already satisfied: multiprocess in /Users/abdullah/anaconda3/lib/python3.7/site-packages (from cvxpy<1.1,>=1.0->pyportfolioopt) (0.70.10)\n",
      "Requirement already satisfied: ecos>=2 in /Users/abdullah/anaconda3/lib/python3.7/site-packages (from cvxpy<1.1,>=1.0->pyportfolioopt) (2.0.7.post1)\n",
      "Requirement already satisfied: osqp>=0.4.1 in /Users/abdullah/anaconda3/lib/python3.7/site-packages (from cvxpy<1.1,>=1.0->pyportfolioopt) (0.6.1)\n",
      "Requirement already satisfied: python-dateutil>=2.6.1 in /Users/abdullah/anaconda3/lib/python3.7/site-packages (from pandas>=0.19->pyportfolioopt) (2.8.1)\n",
      "Requirement already satisfied: pytz>=2017.2 in /Users/abdullah/anaconda3/lib/python3.7/site-packages (from pandas>=0.19->pyportfolioopt) (2019.3)\n",
      "Requirement already satisfied: dill>=0.3.2 in /Users/abdullah/anaconda3/lib/python3.7/site-packages (from multiprocess->cvxpy<1.1,>=1.0->pyportfolioopt) (0.3.2)\n",
      "Requirement already satisfied: future in /Users/abdullah/anaconda3/lib/python3.7/site-packages (from osqp>=0.4.1->cvxpy<1.1,>=1.0->pyportfolioopt) (0.18.2)\n",
      "Requirement already satisfied: six>=1.5 in /Users/abdullah/anaconda3/lib/python3.7/site-packages (from python-dateutil>=2.6.1->pandas>=0.19->pyportfolioopt) (1.14.0)\n"
     ]
    }
   ],
   "source": [
    "!pip install pyportfolioopt"
   ]
  },
  {
   "cell_type": "code",
   "execution_count": 2,
   "metadata": {},
   "outputs": [],
   "source": [
    "import yfinance as yf\n",
    "import numpy as np\n",
    "import pandas as pd\n",
    "from pypfopt.efficient_frontier import EfficientFrontier \n",
    "from pypfopt.cla import CLA\n",
    "from pypfopt import plotting\n",
    "from pypfopt.plotting import plot_weights\n",
    "from pypfopt import risk_models\n",
    "from pypfopt import expected_returns"
   ]
  },
  {
   "cell_type": "code",
   "execution_count": 3,
   "metadata": {},
   "outputs": [
    {
     "name": "stdout",
     "output_type": "stream",
     "text": [
      "[*********************100%***********************]  4 of 4 downloaded\n"
     ]
    }
   ],
   "source": [
    "tickers = ['AAPL','AMZN','MMM','XOM']\n",
    "start_date = '2019-07-01'\n",
    "end_date = '2020-07-01'\n",
    "stocks = yf.download(tickers,start_date,end_date,interval='1d')"
   ]
  },
  {
   "cell_type": "code",
   "execution_count": 4,
   "metadata": {},
   "outputs": [
    {
     "data": {
      "text/html": [
       "<div>\n",
       "<style scoped>\n",
       "    .dataframe tbody tr th:only-of-type {\n",
       "        vertical-align: middle;\n",
       "    }\n",
       "\n",
       "    .dataframe tbody tr th {\n",
       "        vertical-align: top;\n",
       "    }\n",
       "\n",
       "    .dataframe thead tr th {\n",
       "        text-align: left;\n",
       "    }\n",
       "\n",
       "    .dataframe thead tr:last-of-type th {\n",
       "        text-align: right;\n",
       "    }\n",
       "</style>\n",
       "<table border=\"1\" class=\"dataframe\">\n",
       "  <thead>\n",
       "    <tr>\n",
       "      <th></th>\n",
       "      <th colspan=\"4\" halign=\"left\">Adj Close</th>\n",
       "      <th colspan=\"4\" halign=\"left\">Close</th>\n",
       "      <th colspan=\"2\" halign=\"left\">High</th>\n",
       "      <th>...</th>\n",
       "      <th colspan=\"2\" halign=\"left\">Low</th>\n",
       "      <th colspan=\"4\" halign=\"left\">Open</th>\n",
       "      <th colspan=\"4\" halign=\"left\">Volume</th>\n",
       "    </tr>\n",
       "    <tr>\n",
       "      <th></th>\n",
       "      <th>AAPL</th>\n",
       "      <th>AMZN</th>\n",
       "      <th>MMM</th>\n",
       "      <th>XOM</th>\n",
       "      <th>AAPL</th>\n",
       "      <th>AMZN</th>\n",
       "      <th>MMM</th>\n",
       "      <th>XOM</th>\n",
       "      <th>AAPL</th>\n",
       "      <th>AMZN</th>\n",
       "      <th>...</th>\n",
       "      <th>MMM</th>\n",
       "      <th>XOM</th>\n",
       "      <th>AAPL</th>\n",
       "      <th>AMZN</th>\n",
       "      <th>MMM</th>\n",
       "      <th>XOM</th>\n",
       "      <th>AAPL</th>\n",
       "      <th>AMZN</th>\n",
       "      <th>MMM</th>\n",
       "      <th>XOM</th>\n",
       "    </tr>\n",
       "    <tr>\n",
       "      <th>Date</th>\n",
       "      <th></th>\n",
       "      <th></th>\n",
       "      <th></th>\n",
       "      <th></th>\n",
       "      <th></th>\n",
       "      <th></th>\n",
       "      <th></th>\n",
       "      <th></th>\n",
       "      <th></th>\n",
       "      <th></th>\n",
       "      <th></th>\n",
       "      <th></th>\n",
       "      <th></th>\n",
       "      <th></th>\n",
       "      <th></th>\n",
       "      <th></th>\n",
       "      <th></th>\n",
       "      <th></th>\n",
       "      <th></th>\n",
       "      <th></th>\n",
       "      <th></th>\n",
       "    </tr>\n",
       "  </thead>\n",
       "  <tbody>\n",
       "    <tr>\n",
       "      <th>2019-07-01</th>\n",
       "      <td>49.70</td>\n",
       "      <td>1922.19</td>\n",
       "      <td>166.72</td>\n",
       "      <td>70.86</td>\n",
       "      <td>50.39</td>\n",
       "      <td>1922.19</td>\n",
       "      <td>174.51</td>\n",
       "      <td>76.56</td>\n",
       "      <td>51.12</td>\n",
       "      <td>1929.82</td>\n",
       "      <td>...</td>\n",
       "      <td>173.52</td>\n",
       "      <td>76.29</td>\n",
       "      <td>50.79</td>\n",
       "      <td>1922.98</td>\n",
       "      <td>175.46</td>\n",
       "      <td>77.13</td>\n",
       "      <td>109012000</td>\n",
       "      <td>3203300</td>\n",
       "      <td>2106700</td>\n",
       "      <td>11453800</td>\n",
       "    </tr>\n",
       "    <tr>\n",
       "      <th>2019-07-02</th>\n",
       "      <td>49.99</td>\n",
       "      <td>1934.31</td>\n",
       "      <td>166.25</td>\n",
       "      <td>70.08</td>\n",
       "      <td>50.68</td>\n",
       "      <td>1934.31</td>\n",
       "      <td>174.02</td>\n",
       "      <td>75.72</td>\n",
       "      <td>50.78</td>\n",
       "      <td>1934.79</td>\n",
       "      <td>...</td>\n",
       "      <td>173.07</td>\n",
       "      <td>75.41</td>\n",
       "      <td>50.35</td>\n",
       "      <td>1919.38</td>\n",
       "      <td>175.10</td>\n",
       "      <td>76.14</td>\n",
       "      <td>67740800</td>\n",
       "      <td>2645900</td>\n",
       "      <td>1555400</td>\n",
       "      <td>10475400</td>\n",
       "    </tr>\n",
       "    <tr>\n",
       "      <th>2019-07-03</th>\n",
       "      <td>50.41</td>\n",
       "      <td>1939.00</td>\n",
       "      <td>167.17</td>\n",
       "      <td>70.75</td>\n",
       "      <td>51.10</td>\n",
       "      <td>1939.00</td>\n",
       "      <td>174.98</td>\n",
       "      <td>76.44</td>\n",
       "      <td>51.11</td>\n",
       "      <td>1941.59</td>\n",
       "      <td>...</td>\n",
       "      <td>172.93</td>\n",
       "      <td>75.63</td>\n",
       "      <td>50.82</td>\n",
       "      <td>1935.89</td>\n",
       "      <td>174.17</td>\n",
       "      <td>75.82</td>\n",
       "      <td>45448000</td>\n",
       "      <td>1690300</td>\n",
       "      <td>1170700</td>\n",
       "      <td>5246100</td>\n",
       "    </tr>\n",
       "    <tr>\n",
       "      <th>2019-07-05</th>\n",
       "      <td>50.36</td>\n",
       "      <td>1942.91</td>\n",
       "      <td>164.32</td>\n",
       "      <td>70.46</td>\n",
       "      <td>51.06</td>\n",
       "      <td>1942.91</td>\n",
       "      <td>172.00</td>\n",
       "      <td>76.13</td>\n",
       "      <td>51.27</td>\n",
       "      <td>1945.90</td>\n",
       "      <td>...</td>\n",
       "      <td>169.73</td>\n",
       "      <td>75.59</td>\n",
       "      <td>50.84</td>\n",
       "      <td>1928.60</td>\n",
       "      <td>173.00</td>\n",
       "      <td>76.19</td>\n",
       "      <td>69062000</td>\n",
       "      <td>2628400</td>\n",
       "      <td>1740500</td>\n",
       "      <td>6880800</td>\n",
       "    </tr>\n",
       "    <tr>\n",
       "      <th>2019-07-08</th>\n",
       "      <td>49.33</td>\n",
       "      <td>1952.32</td>\n",
       "      <td>161.64</td>\n",
       "      <td>70.79</td>\n",
       "      <td>50.01</td>\n",
       "      <td>1952.32</td>\n",
       "      <td>169.19</td>\n",
       "      <td>76.48</td>\n",
       "      <td>50.35</td>\n",
       "      <td>1956.00</td>\n",
       "      <td>...</td>\n",
       "      <td>168.77</td>\n",
       "      <td>75.92</td>\n",
       "      <td>50.20</td>\n",
       "      <td>1934.12</td>\n",
       "      <td>169.92</td>\n",
       "      <td>76.14</td>\n",
       "      <td>101354400</td>\n",
       "      <td>2883400</td>\n",
       "      <td>2285300</td>\n",
       "      <td>7876100</td>\n",
       "    </tr>\n",
       "  </tbody>\n",
       "</table>\n",
       "<p>5 rows × 24 columns</p>\n",
       "</div>"
      ],
      "text/plain": [
       "           Adj Close                          Close                          \\\n",
       "                AAPL     AMZN     MMM    XOM   AAPL     AMZN     MMM    XOM   \n",
       "Date                                                                          \n",
       "2019-07-01     49.70  1922.19  166.72  70.86  50.39  1922.19  174.51  76.56   \n",
       "2019-07-02     49.99  1934.31  166.25  70.08  50.68  1934.31  174.02  75.72   \n",
       "2019-07-03     50.41  1939.00  167.17  70.75  51.10  1939.00  174.98  76.44   \n",
       "2019-07-05     50.36  1942.91  164.32  70.46  51.06  1942.91  172.00  76.13   \n",
       "2019-07-08     49.33  1952.32  161.64  70.79  50.01  1952.32  169.19  76.48   \n",
       "\n",
       "             High           ...     Low          Open                          \\\n",
       "             AAPL     AMZN  ...     MMM    XOM   AAPL     AMZN     MMM    XOM   \n",
       "Date                        ...                                                 \n",
       "2019-07-01  51.12  1929.82  ...  173.52  76.29  50.79  1922.98  175.46  77.13   \n",
       "2019-07-02  50.78  1934.79  ...  173.07  75.41  50.35  1919.38  175.10  76.14   \n",
       "2019-07-03  51.11  1941.59  ...  172.93  75.63  50.82  1935.89  174.17  75.82   \n",
       "2019-07-05  51.27  1945.90  ...  169.73  75.59  50.84  1928.60  173.00  76.19   \n",
       "2019-07-08  50.35  1956.00  ...  168.77  75.92  50.20  1934.12  169.92  76.14   \n",
       "\n",
       "               Volume                              \n",
       "                 AAPL     AMZN      MMM       XOM  \n",
       "Date                                               \n",
       "2019-07-01  109012000  3203300  2106700  11453800  \n",
       "2019-07-02   67740800  2645900  1555400  10475400  \n",
       "2019-07-03   45448000  1690300  1170700   5246100  \n",
       "2019-07-05   69062000  2628400  1740500   6880800  \n",
       "2019-07-08  101354400  2883400  2285300   7876100  \n",
       "\n",
       "[5 rows x 24 columns]"
      ]
     },
     "execution_count": 4,
     "metadata": {},
     "output_type": "execute_result"
    }
   ],
   "source": [
    "stocks.head()"
   ]
  },
  {
   "cell_type": "code",
   "execution_count": 5,
   "metadata": {},
   "outputs": [],
   "source": [
    "close_prices=stocks.Close"
   ]
  },
  {
   "cell_type": "code",
   "execution_count": 6,
   "metadata": {},
   "outputs": [
    {
     "data": {
      "text/plain": [
       "0.6761302046932257"
      ]
     },
     "execution_count": 6,
     "metadata": {},
     "output_type": "execute_result"
    }
   ],
   "source": [
    "close_prices['AAPL'].pct_change().mean()*252"
   ]
  },
  {
   "cell_type": "code",
   "execution_count": 7,
   "metadata": {},
   "outputs": [],
   "source": [
    "mu = expected_returns.mean_historical_return(close_prices) # annualized mean\n",
    "sigma = risk_models.sample_cov(close_prices)# annualized risk"
   ]
  },
  {
   "cell_type": "code",
   "execution_count": 8,
   "metadata": {},
   "outputs": [
    {
     "name": "stdout",
     "output_type": "stream",
     "text": [
      "Expected returns are:\n",
      " AAPL    0.676130\n",
      "AMZN    0.410265\n",
      "MMM    -0.040449\n",
      "XOM    -0.429094\n",
      "dtype: float64\n"
     ]
    }
   ],
   "source": [
    "print('Expected returns are:\\n {}'.format(mu))"
   ]
  },
  {
   "cell_type": "code",
   "execution_count": 9,
   "metadata": {},
   "outputs": [
    {
     "data": {
      "text/html": [
       "<div>\n",
       "<style scoped>\n",
       "    .dataframe tbody tr th:only-of-type {\n",
       "        vertical-align: middle;\n",
       "    }\n",
       "\n",
       "    .dataframe tbody tr th {\n",
       "        vertical-align: top;\n",
       "    }\n",
       "\n",
       "    .dataframe thead th {\n",
       "        text-align: right;\n",
       "    }\n",
       "</style>\n",
       "<table border=\"1\" class=\"dataframe\">\n",
       "  <thead>\n",
       "    <tr style=\"text-align: right;\">\n",
       "      <th></th>\n",
       "      <th>AAPL</th>\n",
       "      <th>AMZN</th>\n",
       "      <th>MMM</th>\n",
       "      <th>XOM</th>\n",
       "    </tr>\n",
       "  </thead>\n",
       "  <tbody>\n",
       "    <tr>\n",
       "      <th>AAPL</th>\n",
       "      <td>0.164411</td>\n",
       "      <td>0.086949</td>\n",
       "      <td>0.105006</td>\n",
       "      <td>0.121410</td>\n",
       "    </tr>\n",
       "    <tr>\n",
       "      <th>AMZN</th>\n",
       "      <td>0.086949</td>\n",
       "      <td>0.097800</td>\n",
       "      <td>0.052903</td>\n",
       "      <td>0.063349</td>\n",
       "    </tr>\n",
       "    <tr>\n",
       "      <th>MMM</th>\n",
       "      <td>0.105006</td>\n",
       "      <td>0.052903</td>\n",
       "      <td>0.143958</td>\n",
       "      <td>0.121978</td>\n",
       "    </tr>\n",
       "    <tr>\n",
       "      <th>XOM</th>\n",
       "      <td>0.121410</td>\n",
       "      <td>0.063349</td>\n",
       "      <td>0.121978</td>\n",
       "      <td>0.215292</td>\n",
       "    </tr>\n",
       "  </tbody>\n",
       "</table>\n",
       "</div>"
      ],
      "text/plain": [
       "          AAPL      AMZN       MMM       XOM\n",
       "AAPL  0.164411  0.086949  0.105006  0.121410\n",
       "AMZN  0.086949  0.097800  0.052903  0.063349\n",
       "MMM   0.105006  0.052903  0.143958  0.121978\n",
       "XOM   0.121410  0.063349  0.121978  0.215292"
      ]
     },
     "execution_count": 9,
     "metadata": {},
     "output_type": "execute_result"
    }
   ],
   "source": [
    "sigma"
   ]
  },
  {
   "cell_type": "code",
   "execution_count": 10,
   "metadata": {},
   "outputs": [],
   "source": [
    "efficient_front = EfficientFrontier(mu, sigma,weight_bounds=(-1, 1))"
   ]
  },
  {
   "cell_type": "code",
   "execution_count": 11,
   "metadata": {},
   "outputs": [
    {
     "data": {
      "text/plain": [
       "OrderedDict([('AAPL', -0.1813997483912382),\n",
       "             ('AMZN', 0.7581399948004892),\n",
       "             ('MMM', 0.3854431700170102),\n",
       "             ('XOM', 0.0378165835737387)])"
      ]
     },
     "execution_count": 11,
     "metadata": {},
     "output_type": "execute_result"
    }
   ],
   "source": [
    "efficient_front.min_volatility()"
   ]
  },
  {
   "cell_type": "code",
   "execution_count": 12,
   "metadata": {},
   "outputs": [
    {
     "data": {
      "text/plain": [
       "OrderedDict([('AAPL', 0.9999999999868447),\n",
       "             ('AMZN', 0.999999999993368),\n",
       "             ('MMM', -6.04221e-11),\n",
       "             ('XOM', -0.9999999999197898)])"
      ]
     },
     "execution_count": 12,
     "metadata": {},
     "output_type": "execute_result"
    }
   ],
   "source": [
    "efficient_front.efficient_risk(3.1)# Optimal return for a target risk"
   ]
  },
  {
   "cell_type": "code",
   "execution_count": 13,
   "metadata": {},
   "outputs": [
    {
     "name": "stdout",
     "output_type": "stream",
     "text": [
      "Weights are:\n",
      " OrderedDict([('AAPL', 1.0), ('AMZN', 1.0), ('MMM', 0.0), ('XOM', -1.0)])\n"
     ]
    }
   ],
   "source": [
    "clean_weights = efficient_front.clean_weights()\n",
    "print('Weights are:\\n {}'.format(clean_weights))"
   ]
  },
  {
   "cell_type": "code",
   "execution_count": 14,
   "metadata": {},
   "outputs": [
    {
     "data": {
      "text/plain": [
       "OrderedDict([('AAPL', -0.1813992134657808),\n",
       "             ('AMZN', 0.7581397882136183),\n",
       "             ('MMM', 0.3854437682482622),\n",
       "             ('XOM', 0.0378156570040278)])"
      ]
     },
     "execution_count": 14,
     "metadata": {},
     "output_type": "execute_result"
    }
   ],
   "source": [
    "efficient_front.efficient_return(0.05)# Minimal risk for a target return"
   ]
  },
  {
   "cell_type": "code",
   "execution_count": 15,
   "metadata": {},
   "outputs": [
    {
     "data": {
      "text/plain": [
       "OrderedDict([('AAPL', 0.9999999996519858),\n",
       "             ('AMZN', 0.9953252386476859),\n",
       "             ('MMM', 0.0046747594604285),\n",
       "             ('XOM', -0.9999999977601114)])"
      ]
     },
     "execution_count": 15,
     "metadata": {},
     "output_type": "execute_result"
    }
   ],
   "source": [
    "efficient_front.max_sharpe()# Maximum Sharpe ratio"
   ]
  },
  {
   "cell_type": "code",
   "execution_count": 16,
   "metadata": {
    "scrolled": true
   },
   "outputs": [
    {
     "name": "stdout",
     "output_type": "stream",
     "text": [
      "Expected annual return: 151.3%\n",
      "Annual volatility: 53.0%\n",
      "Sharpe Ratio: 2.84\n"
     ]
    },
    {
     "data": {
      "text/plain": [
       "(1.5133822988933103, 0.5301772653409106, 2.835621964903789)"
      ]
     },
     "execution_count": 16,
     "metadata": {},
     "output_type": "execute_result"
    }
   ],
   "source": [
    "efficient_front.portfolio_performance(verbose=True, risk_free_rate = 0.01)"
   ]
  },
  {
   "cell_type": "code",
   "execution_count": 17,
   "metadata": {
    "scrolled": false
   },
   "outputs": [
    {
     "data": {
      "image/png": "[encoded data removed]",
      "text/plain": [
       "<Figure size 432x288 with 1 Axes>"
      ]
     },
     "metadata": {
      "needs_background": "light"
     },
     "output_type": "display_data"
    }
   ],
   "source": [
    "cla = CLA(mu, sigma)\n",
    "plotting.plot_efficient_frontier(cla);"
   ]
  },
  {
   "cell_type": "code",
   "execution_count": 18,
   "metadata": {},
   "outputs": [
    {
     "data": {
      "image/png": "[encoded data removed]",
      "text/plain": [
       "<Figure size 432x288 with 1 Axes>"
      ]
     },
     "metadata": {
      "needs_background": "light"
     },
     "output_type": "display_data"
    }
   ],
   "source": [
    "plotting.plot_weights(clean_weights);# Plot the portfolio weights as a horizontal bar chart"
   ]
  }
 ],
 "metadata": {
  "kernelspec": {
   "display_name": "Python 3",
   "language": "python",
   "name": "python3"
  },
  "language_info": {
   "codemirror_mode": {
    "name": "ipython",
    "version": 3
   },
   "file_extension": ".py",
   "mimetype": "text/x-python",
   "name": "python",
   "nbconvert_exporter": "python",
   "pygments_lexer": "ipython3",
   "version": "3.7.3"
  }
 },
 "nbformat": 4,
 "nbformat_minor": 4
}
