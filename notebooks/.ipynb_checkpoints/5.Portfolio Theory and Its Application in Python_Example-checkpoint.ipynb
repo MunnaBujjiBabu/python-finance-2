{
 "cells": [
  {
   "cell_type": "markdown",
   "metadata": {},
   "source": [
<<<<<<< HEAD
=======
<<<<<<< HEAD
=======
<<<<<<< HEAD
=======
<<<<<<< HEAD
=======
<<<<<<< HEAD
>>>>>>> Python for Finance-II
>>>>>>> Python for Finance-II
>>>>>>> Python for Finance-II
>>>>>>> Python for Finance-II
    "# Portfolio Theory and Its Application in Python-Example"
   ]
  },
  {
   "cell_type": "code",
   "execution_count": 3,
   "metadata": {},
   "outputs": [
    {
     "name": "stdout",
     "output_type": "stream",
     "text": [
      "Requirement already satisfied: pyportfolioopt in /Users/abdullah/anaconda3/lib/python3.7/site-packages (1.2.4)\n",
      "Requirement already satisfied: pandas>=0.19 in /Users/abdullah/anaconda3/lib/python3.7/site-packages (from pyportfolioopt) (1.0.3)\n",
      "Requirement already satisfied: scipy<2.0,>=1.3 in /Users/abdullah/anaconda3/lib/python3.7/site-packages (from pyportfolioopt) (1.5.2)\n",
      "Requirement already satisfied: cvxpy<1.1,>=1.0 in /Users/abdullah/anaconda3/lib/python3.7/site-packages (from pyportfolioopt) (1.0.31)\n",
      "Requirement already satisfied: numpy<2.0,>=1.12 in /Users/abdullah/anaconda3/lib/python3.7/site-packages (from pyportfolioopt) (1.18.2)\n",
      "Requirement already satisfied: pytz>=2017.2 in /Users/abdullah/anaconda3/lib/python3.7/site-packages (from pandas>=0.19->pyportfolioopt) (2019.3)\n",
      "Requirement already satisfied: python-dateutil>=2.6.1 in /Users/abdullah/anaconda3/lib/python3.7/site-packages (from pandas>=0.19->pyportfolioopt) (2.8.1)\n",
      "Requirement already satisfied: osqp>=0.4.1 in /Users/abdullah/anaconda3/lib/python3.7/site-packages (from cvxpy<1.1,>=1.0->pyportfolioopt) (0.6.1)\n",
      "Requirement already satisfied: multiprocess in /Users/abdullah/anaconda3/lib/python3.7/site-packages (from cvxpy<1.1,>=1.0->pyportfolioopt) (0.70.10)\n",
      "Requirement already satisfied: scs>=1.1.3 in /Users/abdullah/anaconda3/lib/python3.7/site-packages (from cvxpy<1.1,>=1.0->pyportfolioopt) (2.1.2)\n",
      "Requirement already satisfied: ecos>=2 in /Users/abdullah/anaconda3/lib/python3.7/site-packages (from cvxpy<1.1,>=1.0->pyportfolioopt) (2.0.7.post1)\n",
      "Requirement already satisfied: six>=1.5 in /Users/abdullah/anaconda3/lib/python3.7/site-packages (from python-dateutil>=2.6.1->pandas>=0.19->pyportfolioopt) (1.14.0)\n",
      "Requirement already satisfied: future in /Users/abdullah/anaconda3/lib/python3.7/site-packages (from osqp>=0.4.1->cvxpy<1.1,>=1.0->pyportfolioopt) (0.18.2)\n",
      "Requirement already satisfied: dill>=0.3.2 in /Users/abdullah/anaconda3/lib/python3.7/site-packages (from multiprocess->cvxpy<1.1,>=1.0->pyportfolioopt) (0.3.2)\n"
     ]
    }
   ],
   "source": [
    "!pip install pyportfolioopt"
<<<<<<< HEAD
=======
<<<<<<< HEAD
=======
<<<<<<< HEAD
=======
<<<<<<< HEAD
=======
=======
    "# Exercise"
   ]
  },
  {
   "cell_type": "markdown",
   "metadata": {},
   "source": [
    "    !pip install pyportfolioopt"
>>>>>>> Python for Finance-II
>>>>>>> Python for Finance-II
>>>>>>> Python for Finance-II
>>>>>>> Python for Finance-II
>>>>>>> Python for Finance-II
   ]
  },
  {
   "cell_type": "code",
   "execution_count": 1,
   "metadata": {},
   "outputs": [],
   "source": [
    "import yfinance as yf\n",
    "import numpy as np\n",
    "import pandas as pd\n",
    "from pypfopt.efficient_frontier import EfficientFrontier \n",
    "from pypfopt.cla import CLA\n",
    "from pypfopt import plotting\n",
    "from pypfopt.plotting import plot_weights\n",
    "from pypfopt import risk_models\n",
    "from pypfopt import expected_returns"
   ]
  },
  {
   "cell_type": "code",
   "execution_count": 2,
   "metadata": {},
   "outputs": [
    {
     "name": "stdout",
     "output_type": "stream",
     "text": [
      "[*********************100%***********************]  4 of 4 downloaded\n"
     ]
    }
   ],
   "source": [
    "tickers = ['AAPL','AMZN','MMM','XOM']\n",
    "start_date = '2019-07-01'\n",
    "end_date = '2020-07-01'\n",
    "stocks = yf.download(tickers,start_date,end_date,interval='1d')"
   ]
  },
  {
   "cell_type": "code",
   "execution_count": 3,
   "metadata": {},
   "outputs": [
    {
     "data": {
      "text/html": [
       "<div>\n",
       "<style scoped>\n",
       "    .dataframe tbody tr th:only-of-type {\n",
       "        vertical-align: middle;\n",
       "    }\n",
       "\n",
       "    .dataframe tbody tr th {\n",
       "        vertical-align: top;\n",
       "    }\n",
       "\n",
       "    .dataframe thead tr th {\n",
       "        text-align: left;\n",
       "    }\n",
       "\n",
       "    .dataframe thead tr:last-of-type th {\n",
       "        text-align: right;\n",
       "    }\n",
       "</style>\n",
       "<table border=\"1\" class=\"dataframe\">\n",
       "  <thead>\n",
       "    <tr>\n",
       "      <th></th>\n",
       "      <th colspan=\"4\" halign=\"left\">Adj Close</th>\n",
       "      <th colspan=\"4\" halign=\"left\">Close</th>\n",
       "      <th colspan=\"2\" halign=\"left\">High</th>\n",
       "      <th>...</th>\n",
       "      <th colspan=\"2\" halign=\"left\">Low</th>\n",
       "      <th colspan=\"4\" halign=\"left\">Open</th>\n",
       "      <th colspan=\"4\" halign=\"left\">Volume</th>\n",
       "    </tr>\n",
       "    <tr>\n",
       "      <th></th>\n",
       "      <th>AAPL</th>\n",
       "      <th>AMZN</th>\n",
       "      <th>MMM</th>\n",
       "      <th>XOM</th>\n",
       "      <th>AAPL</th>\n",
       "      <th>AMZN</th>\n",
       "      <th>MMM</th>\n",
       "      <th>XOM</th>\n",
       "      <th>AAPL</th>\n",
       "      <th>AMZN</th>\n",
       "      <th>...</th>\n",
       "      <th>MMM</th>\n",
       "      <th>XOM</th>\n",
       "      <th>AAPL</th>\n",
       "      <th>AMZN</th>\n",
       "      <th>MMM</th>\n",
       "      <th>XOM</th>\n",
       "      <th>AAPL</th>\n",
       "      <th>AMZN</th>\n",
       "      <th>MMM</th>\n",
       "      <th>XOM</th>\n",
       "    </tr>\n",
       "    <tr>\n",
       "      <th>Date</th>\n",
       "      <th></th>\n",
       "      <th></th>\n",
       "      <th></th>\n",
       "      <th></th>\n",
       "      <th></th>\n",
       "      <th></th>\n",
       "      <th></th>\n",
       "      <th></th>\n",
       "      <th></th>\n",
       "      <th></th>\n",
       "      <th></th>\n",
       "      <th></th>\n",
       "      <th></th>\n",
       "      <th></th>\n",
       "      <th></th>\n",
       "      <th></th>\n",
       "      <th></th>\n",
       "      <th></th>\n",
       "      <th></th>\n",
       "      <th></th>\n",
       "      <th></th>\n",
       "    </tr>\n",
       "  </thead>\n",
       "  <tbody>\n",
       "    <tr>\n",
       "      <th>2019-07-01</th>\n",
       "      <td>198.81</td>\n",
       "      <td>1922.19</td>\n",
       "      <td>168.24</td>\n",
       "      <td>70.86</td>\n",
       "      <td>201.55</td>\n",
       "      <td>1922.19</td>\n",
       "      <td>174.51</td>\n",
       "      <td>76.56</td>\n",
       "      <td>204.49</td>\n",
       "      <td>1929.82</td>\n",
       "      <td>...</td>\n",
       "      <td>173.52</td>\n",
       "      <td>76.29</td>\n",
       "      <td>203.17</td>\n",
       "      <td>1922.98</td>\n",
       "      <td>175.46</td>\n",
       "      <td>77.13</td>\n",
       "      <td>27316700</td>\n",
       "      <td>3203300</td>\n",
       "      <td>2106700</td>\n",
       "      <td>11453800</td>\n",
       "    </tr>\n",
       "    <tr>\n",
       "      <th>2019-07-02</th>\n",
       "      <td>199.98</td>\n",
       "      <td>1934.31</td>\n",
       "      <td>167.76</td>\n",
       "      <td>70.08</td>\n",
       "      <td>202.73</td>\n",
       "      <td>1934.31</td>\n",
       "      <td>174.02</td>\n",
       "      <td>75.72</td>\n",
       "      <td>203.13</td>\n",
       "      <td>1934.79</td>\n",
       "      <td>...</td>\n",
       "      <td>173.07</td>\n",
       "      <td>75.41</td>\n",
       "      <td>201.41</td>\n",
       "      <td>1919.38</td>\n",
       "      <td>175.10</td>\n",
       "      <td>76.14</td>\n",
       "      <td>16935200</td>\n",
       "      <td>2645900</td>\n",
       "      <td>1555400</td>\n",
       "      <td>10475400</td>\n",
       "    </tr>\n",
       "    <tr>\n",
       "      <th>2019-07-03</th>\n",
       "      <td>201.64</td>\n",
       "      <td>1939.00</td>\n",
       "      <td>168.69</td>\n",
       "      <td>70.75</td>\n",
       "      <td>204.41</td>\n",
       "      <td>1939.00</td>\n",
       "      <td>174.98</td>\n",
       "      <td>76.44</td>\n",
       "      <td>204.44</td>\n",
       "      <td>1941.59</td>\n",
       "      <td>...</td>\n",
       "      <td>172.93</td>\n",
       "      <td>75.63</td>\n",
       "      <td>203.28</td>\n",
       "      <td>1935.89</td>\n",
       "      <td>174.17</td>\n",
       "      <td>75.82</td>\n",
       "      <td>11362000</td>\n",
       "      <td>1690300</td>\n",
       "      <td>1170700</td>\n",
       "      <td>5246100</td>\n",
       "    </tr>\n",
       "    <tr>\n",
       "      <th>2019-07-05</th>\n",
       "      <td>201.46</td>\n",
       "      <td>1942.91</td>\n",
       "      <td>165.82</td>\n",
       "      <td>70.46</td>\n",
       "      <td>204.23</td>\n",
       "      <td>1942.91</td>\n",
       "      <td>172.00</td>\n",
       "      <td>76.13</td>\n",
       "      <td>205.08</td>\n",
       "      <td>1945.90</td>\n",
       "      <td>...</td>\n",
       "      <td>169.73</td>\n",
       "      <td>75.59</td>\n",
       "      <td>203.35</td>\n",
       "      <td>1928.60</td>\n",
       "      <td>173.00</td>\n",
       "      <td>76.19</td>\n",
       "      <td>17265500</td>\n",
       "      <td>2628400</td>\n",
       "      <td>1740500</td>\n",
       "      <td>6880800</td>\n",
       "    </tr>\n",
       "    <tr>\n",
       "      <th>2019-07-08</th>\n",
       "      <td>197.31</td>\n",
       "      <td>1952.32</td>\n",
       "      <td>163.11</td>\n",
       "      <td>70.79</td>\n",
       "      <td>200.02</td>\n",
       "      <td>1952.32</td>\n",
       "      <td>169.19</td>\n",
       "      <td>76.48</td>\n",
       "      <td>201.40</td>\n",
       "      <td>1956.00</td>\n",
       "      <td>...</td>\n",
       "      <td>168.77</td>\n",
       "      <td>75.92</td>\n",
       "      <td>200.81</td>\n",
       "      <td>1934.12</td>\n",
       "      <td>169.92</td>\n",
       "      <td>76.14</td>\n",
       "      <td>25338600</td>\n",
       "      <td>2883400</td>\n",
       "      <td>2285300</td>\n",
       "      <td>7876100</td>\n",
       "    </tr>\n",
       "  </tbody>\n",
       "</table>\n",
       "<p>5 rows × 24 columns</p>\n",
       "</div>"
      ],
      "text/plain": [
       "           Adj Close                           Close                          \\\n",
       "                AAPL     AMZN     MMM    XOM    AAPL     AMZN     MMM    XOM   \n",
       "Date                                                                           \n",
       "2019-07-01    198.81  1922.19  168.24  70.86  201.55  1922.19  174.51  76.56   \n",
       "2019-07-02    199.98  1934.31  167.76  70.08  202.73  1934.31  174.02  75.72   \n",
       "2019-07-03    201.64  1939.00  168.69  70.75  204.41  1939.00  174.98  76.44   \n",
       "2019-07-05    201.46  1942.91  165.82  70.46  204.23  1942.91  172.00  76.13   \n",
       "2019-07-08    197.31  1952.32  163.11  70.79  200.02  1952.32  169.19  76.48   \n",
       "\n",
       "              High           ...     Low           Open                   \\\n",
       "              AAPL     AMZN  ...     MMM    XOM    AAPL     AMZN     MMM   \n",
       "Date                         ...                                           \n",
       "2019-07-01  204.49  1929.82  ...  173.52  76.29  203.17  1922.98  175.46   \n",
       "2019-07-02  203.13  1934.79  ...  173.07  75.41  201.41  1919.38  175.10   \n",
       "2019-07-03  204.44  1941.59  ...  172.93  75.63  203.28  1935.89  174.17   \n",
       "2019-07-05  205.08  1945.90  ...  169.73  75.59  203.35  1928.60  173.00   \n",
       "2019-07-08  201.40  1956.00  ...  168.77  75.92  200.81  1934.12  169.92   \n",
       "\n",
       "                     Volume                              \n",
       "              XOM      AAPL     AMZN      MMM       XOM  \n",
       "Date                                                     \n",
       "2019-07-01  77.13  27316700  3203300  2106700  11453800  \n",
       "2019-07-02  76.14  16935200  2645900  1555400  10475400  \n",
       "2019-07-03  75.82  11362000  1690300  1170700   5246100  \n",
       "2019-07-05  76.19  17265500  2628400  1740500   6880800  \n",
       "2019-07-08  76.14  25338600  2883400  2285300   7876100  \n",
       "\n",
       "[5 rows x 24 columns]"
      ]
     },
     "execution_count": 3,
     "metadata": {},
     "output_type": "execute_result"
    }
   ],
   "source": [
    "stocks.head()"
   ]
  },
  {
   "cell_type": "code",
   "execution_count": 4,
   "metadata": {},
   "outputs": [],
   "source": [
    "close_prices=stocks.Close"
   ]
  },
  {
   "cell_type": "code",
   "execution_count": 5,
   "metadata": {},
   "outputs": [
    {
     "data": {
      "text/plain": [
       "0.676186312532679"
      ]
     },
     "execution_count": 5,
     "metadata": {},
     "output_type": "execute_result"
    }
   ],
   "source": [
    "close_prices['AAPL'].pct_change().mean()*252"
   ]
  },
  {
   "cell_type": "code",
   "execution_count": 6,
   "metadata": {},
   "outputs": [],
   "source": [
    "mu = expected_returns.mean_historical_return(close_prices) # annualized mean\n",
    "sigma = risk_models.sample_cov(close_prices)# annualized risk"
   ]
  },
  {
   "cell_type": "code",
   "execution_count": 7,
   "metadata": {},
   "outputs": [
    {
     "name": "stdout",
     "output_type": "stream",
     "text": [
      "Expected returns are:\n",
      " AAPL    0.676186\n",
      "AMZN    0.410265\n",
      "MMM    -0.040449\n",
      "XOM    -0.429094\n",
      "dtype: float64\n"
     ]
    }
   ],
   "source": [
    "print('Expected returns are:\\n {}'.format(mu))"
   ]
  },
  {
   "cell_type": "code",
   "execution_count": 8,
   "metadata": {},
   "outputs": [
    {
     "data": {
      "text/html": [
       "<div>\n",
       "<style scoped>\n",
       "    .dataframe tbody tr th:only-of-type {\n",
       "        vertical-align: middle;\n",
       "    }\n",
       "\n",
       "    .dataframe tbody tr th {\n",
       "        vertical-align: top;\n",
       "    }\n",
       "\n",
       "    .dataframe thead th {\n",
       "        text-align: right;\n",
       "    }\n",
       "</style>\n",
       "<table border=\"1\" class=\"dataframe\">\n",
       "  <thead>\n",
       "    <tr style=\"text-align: right;\">\n",
       "      <th></th>\n",
       "      <th>AAPL</th>\n",
       "      <th>AMZN</th>\n",
       "      <th>MMM</th>\n",
       "      <th>XOM</th>\n",
       "    </tr>\n",
       "  </thead>\n",
       "  <tbody>\n",
       "    <tr>\n",
       "      <th>AAPL</th>\n",
       "      <td>0.164425</td>\n",
       "      <td>0.086960</td>\n",
       "      <td>0.105024</td>\n",
       "      <td>0.121412</td>\n",
       "    </tr>\n",
       "    <tr>\n",
       "      <th>AMZN</th>\n",
       "      <td>0.086960</td>\n",
       "      <td>0.097800</td>\n",
       "      <td>0.052903</td>\n",
       "      <td>0.063349</td>\n",
       "    </tr>\n",
       "    <tr>\n",
       "      <th>MMM</th>\n",
       "      <td>0.105024</td>\n",
       "      <td>0.052903</td>\n",
       "      <td>0.143958</td>\n",
       "      <td>0.121978</td>\n",
       "    </tr>\n",
       "    <tr>\n",
       "      <th>XOM</th>\n",
       "      <td>0.121412</td>\n",
       "      <td>0.063349</td>\n",
       "      <td>0.121978</td>\n",
       "      <td>0.215292</td>\n",
       "    </tr>\n",
       "  </tbody>\n",
       "</table>\n",
       "</div>"
      ],
      "text/plain": [
       "          AAPL      AMZN       MMM       XOM\n",
       "AAPL  0.164425  0.086960  0.105024  0.121412\n",
       "AMZN  0.086960  0.097800  0.052903  0.063349\n",
       "MMM   0.105024  0.052903  0.143958  0.121978\n",
       "XOM   0.121412  0.063349  0.121978  0.215292"
      ]
     },
     "execution_count": 8,
     "metadata": {},
     "output_type": "execute_result"
    }
   ],
   "source": [
    "sigma"
   ]
  },
  {
   "cell_type": "code",
   "execution_count": 9,
   "metadata": {},
   "outputs": [],
   "source": [
    "efficient_front = EfficientFrontier(mu, sigma,weight_bounds=(-1, 1))"
   ]
  },
  {
   "cell_type": "code",
   "execution_count": 10,
   "metadata": {},
   "outputs": [
    {
     "data": {
      "text/plain": [
       "OrderedDict([('AAPL', -0.1816666745953597),\n",
       "             ('AMZN', 0.7582668972911084),\n",
       "             ('MMM', 0.3855552894707698),\n",
       "             ('XOM', 0.0378444878334814)])"
      ]
     },
     "execution_count": 10,
     "metadata": {},
     "output_type": "execute_result"
    }
   ],
   "source": [
    "efficient_front.min_volatility()"
   ]
  },
  {
   "cell_type": "code",
   "execution_count": 11,
   "metadata": {},
   "outputs": [
    {
     "data": {
      "text/plain": [
       "OrderedDict([('AAPL', 0.9999999999868427),\n",
       "             ('AMZN', 0.9999999999933676),\n",
       "             ('MMM', -6.04278e-11),\n",
       "             ('XOM', -0.9999999999197816)])"
      ]
     },
     "execution_count": 11,
     "metadata": {},
     "output_type": "execute_result"
    }
   ],
   "source": [
    "efficient_front.efficient_risk(3.1)# Optimal return for a target risk"
   ]
  },
  {
   "cell_type": "code",
   "execution_count": 12,
   "metadata": {},
   "outputs": [
    {
     "name": "stdout",
     "output_type": "stream",
     "text": [
      "Weights are:\n",
      " OrderedDict([('AAPL', 1.0), ('AMZN', 1.0), ('MMM', 0.0), ('XOM', -1.0)])\n"
     ]
    }
   ],
   "source": [
    "clean_weights = efficient_front.clean_weights()\n",
    "print('Weights are:\\n {}'.format(clean_weights))"
   ]
  },
  {
   "cell_type": "code",
   "execution_count": 13,
   "metadata": {},
   "outputs": [
    {
     "data": {
      "text/plain": [
       "OrderedDict([('AAPL', -0.181666116554331),\n",
       "             ('AMZN', 0.7582666807239805),\n",
       "             ('MMM', 0.3855559052449182),\n",
       "             ('XOM', 0.037843530585602)])"
      ]
     },
     "execution_count": 13,
     "metadata": {},
     "output_type": "execute_result"
    }
   ],
   "source": [
    "efficient_front.efficient_return(0.05)# Minimal risk for a target return"
   ]
  },
  {
   "cell_type": "code",
   "execution_count": 14,
   "metadata": {},
   "outputs": [
    {
     "data": {
      "text/plain": [
       "OrderedDict([('AAPL', 0.99999999957208),\n",
       "             ('AMZN', 0.9954496647411326),\n",
       "             ('MMM', 0.0045503329201603),\n",
       "             ('XOM', -0.9999999972333894)])"
      ]
     },
     "execution_count": 14,
     "metadata": {},
     "output_type": "execute_result"
    }
   ],
   "source": [
    "efficient_front.max_sharpe()# Maximum Sharpe ratio"
   ]
  },
  {
   "cell_type": "code",
   "execution_count": 15,
   "metadata": {
    "scrolled": true
   },
   "outputs": [
    {
     "name": "stdout",
     "output_type": "stream",
     "text": [
      "Expected annual return: 151.3%\n",
      "Annual volatility: 53.0%\n",
      "Sharpe Ratio: 2.84\n"
     ]
    },
    {
     "data": {
      "text/plain": [
       "(1.5134944870321616, 0.5302270445288377, 2.83556733392989)"
      ]
     },
     "execution_count": 15,
     "metadata": {},
     "output_type": "execute_result"
    }
   ],
   "source": [
    "efficient_front.portfolio_performance(verbose=True, risk_free_rate = 0.01)"
   ]
  },
  {
   "cell_type": "code",
   "execution_count": 16,
   "metadata": {
    "scrolled": false
   },
   "outputs": [
    {
     "data": {
      "image/png": "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\n",
      "text/plain": [
       "<Figure size 432x288 with 1 Axes>"
      ]
     },
     "metadata": {
      "needs_background": "light"
     },
     "output_type": "display_data"
    }
   ],
   "source": [
    "cla = CLA(mu, sigma)\n",
    "plotting.plot_efficient_frontier(cla);"
   ]
  },
  {
   "cell_type": "code",
   "execution_count": 17,
   "metadata": {},
   "outputs": [
    {
     "data": {
      "image/png": "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\n",
      "text/plain": [
       "<Figure size 432x288 with 1 Axes>"
      ]
     },
     "metadata": {
      "needs_background": "light"
     },
     "output_type": "display_data"
    }
   ],
   "source": [
    "plotting.plot_weights(clean_weights);# Plot the portfolio weights as a horizontal bar chart"
   ]
  }
 ],
 "metadata": {
  "kernelspec": {
   "display_name": "Python 3",
   "language": "python",
   "name": "python3"
  },
  "language_info": {
   "codemirror_mode": {
    "name": "ipython",
    "version": 3
   },
   "file_extension": ".py",
   "mimetype": "text/x-python",
   "name": "python",
   "nbconvert_exporter": "python",
   "pygments_lexer": "ipython3",
   "version": "3.7.3"
  }
 },
 "nbformat": 4,
 "nbformat_minor": 4
}
